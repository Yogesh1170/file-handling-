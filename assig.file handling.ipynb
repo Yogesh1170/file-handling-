{
 "cells": [
  {
   "cell_type": "code",
   "execution_count": 1,
   "id": "a94c9b6d-ebe7-456c-b7ae-14dee8fd5399",
   "metadata": {},
   "outputs": [
    {
     "data": {
      "text/plain": [
       "\"An error is an issue in a program that prevents the program from completing its task. In comparison, an exception is a condition that interrupts\\nthe normal flow of the program. \\n A syntax error occurs due to missed reserved keywords, spaces, quotes placed improperly, indentations and incorrect usage of blocks, \\n invalid declarations, and if the function calls and definitions aren't done properly.\""
      ]
     },
     "execution_count": 1,
     "metadata": {},
     "output_type": "execute_result"
    }
   ],
   "source": [
    "#Q1. What is an Exception in python? Write the difference, between Exceptions and syntax errors.\n",
    "'''An error is an issue in a program that prevents the program from completing its task. In comparison, an exception is a condition that interrupts\n",
    "the normal flow of the program. \n",
    " A syntax error occurs due to missed reserved keywords, spaces, quotes placed improperly, indentations and incorrect usage of blocks, \n",
    " invalid declarations, and if the function calls and definitions aren't done properly.'''"
   ]
  },
  {
   "cell_type": "code",
   "execution_count": 1,
   "id": "4df9a182-c3ec-4862-8c00-d1f4d52a49ca",
   "metadata": {},
   "outputs": [
    {
     "name": "stdout",
     "output_type": "stream",
     "text": [
      "division by zero\n"
     ]
    }
   ],
   "source": [
    "#Q2what happens when an exception is not handled explain with an example in python\n",
    "'''AssertionError exceptions can be caught and handled like any other exception using the try-except statement,\n",
    "but if not handled, they will terminate the program and produce a traceback.'''\n",
    "try:\n",
    "    a = 12/0\n",
    "except ZeroDivisionError as e:\n",
    "    print(e)\n",
    "    \n"
   ]
  },
  {
   "cell_type": "code",
   "execution_count": 2,
   "id": "fee9dee9-e6df-46d0-9f08-2c15a5d0cdb5",
   "metadata": {},
   "outputs": [
    {
     "name": "stdout",
     "output_type": "stream",
     "text": [
      "division by zero\n"
     ]
    }
   ],
   "source": [
    "#Q3which python statements are used to catch and handle exceptions? explain with example.\n",
    "#The try and except block in Python is used to catch and handle exceptions. \n",
    "try:\n",
    "    a = 12/0\n",
    "except ZeroDivisionError as e:\n",
    "    print(e)"
   ]
  },
  {
   "cell_type": "code",
   "execution_count": 4,
   "id": "f6d9399b-81ac-4c32-adfb-18d911f0be3d",
   "metadata": {},
   "outputs": [
    {
     "data": {
      "text/plain": [
       "'try is used to check or test the error.\\nelse is executed if there is no exception.\\nfinally is always always executed.\\nraise- You can define what kind of error to raise, and the text to print to the user.'"
      ]
     },
     "execution_count": 4,
     "metadata": {},
     "output_type": "execute_result"
    }
   ],
   "source": [
    "#Q4try and else and finally and raise\n",
    "'''try is used to check or test the error.\n",
    "else is executed if there is no exception.\n",
    "finally is always always executed.\n",
    "raise- You can define what kind of error to raise, and the text to print to the user.'''\n"
   ]
  },
  {
   "cell_type": "code",
   "execution_count": 2,
   "id": "0eb9208c-95ce-49a2-8648-0b01346b7793",
   "metadata": {},
   "outputs": [
    {
     "name": "stdin",
     "output_type": "stream",
     "text": [
      "Enter a number:  14\n"
     ]
    },
    {
     "name": "stdout",
     "output_type": "stream",
     "text": [
      "Exception occurred: Invalid Age\n"
     ]
    }
   ],
   "source": [
    "#Q5 what are custom exceptions in python? why do we need custom exception?explain with an example.\n",
    "'''custom exception is exception set by user. we need custom exception bcoz there are many already define exception but there occurs some error which is \n",
    "not define soo to overcome from this we need to make exception according to our code'''\n",
    "class InvalidAgeException(Exception):\n",
    "    \"Raised when the input value is less than 18\"\n",
    "    pass\n",
    "number = 18\n",
    "\n",
    "try:\n",
    "    input_num = int(input(\"Enter a number: \"))\n",
    "    if input_num < number:\n",
    "        raise InvalidAgeException\n",
    "    else:\n",
    "        print(\"Eligible to Vote\")\n",
    "        \n",
    "except InvalidAgeException:\n",
    "    print(\"Exception occurred: Invalid Age\")\n",
    "\n"
   ]
  },
  {
   "cell_type": "code",
   "execution_count": null,
   "id": "311f09cd-dabd-483b-ad00-4aa6f0f0efb8",
   "metadata": {},
   "outputs": [],
   "source": [
    "#create a custom exception class . use this class to handle an exception.\n",
    "class InvalidAgeException(Exception):\n",
    "    \"Raised when the input value is less than 18\"\n",
    "    pass\n",
    "number = 18\n",
    "\n",
    "try:\n",
    "    input_num = int(input(\"Enter a number: \"))\n",
    "    if input_num < number:\n",
    "        raise InvalidAgeException\n",
    "    else:\n",
    "        print(\"Eligible to Vote\")\n",
    "        \n",
    "except InvalidAgeException:\n",
    "    print(\"Exception occurred: Invalid Age\")"
   ]
  },
  {
   "cell_type": "code",
   "execution_count": null,
   "id": "a22fccd2-088a-4f53-be97-a1580d0ad9db",
   "metadata": {},
   "outputs": [],
   "source": []
  }
 ],
 "metadata": {
  "kernelspec": {
   "display_name": "Python 3 (ipykernel)",
   "language": "python",
   "name": "python3"
  },
  "language_info": {
   "codemirror_mode": {
    "name": "ipython",
    "version": 3
   },
   "file_extension": ".py",
   "mimetype": "text/x-python",
   "name": "python",
   "nbconvert_exporter": "python",
   "pygments_lexer": "ipython3",
   "version": "3.10.8"
  }
 },
 "nbformat": 4,
 "nbformat_minor": 5
}
